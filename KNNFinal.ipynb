{
 "cells": [
  {
   "cell_type": "code",
   "execution_count": 2,
   "id": "02277196",
   "metadata": {},
   "outputs": [],
   "source": [
    "import pandas as pd\n",
    "import numpy as np\n",
    "from sklearn.linear_model import LinearRegression\n",
    "from sklearn.preprocessing import MinMaxScaler\n",
    "from sklearn import preprocessing\n",
    "from sklearn.preprocessing import StandardScaler\n",
    "from sklearn.model_selection import RandomizedSearchCV\n",
    "from sklearn.metrics import r2_score\n",
    "from sklearn.metrics import mean_squared_error\n",
    "from sklearn.metrics import mean_absolute_percentage_error\n",
    "from sklearn.metrics import mean_absolute_error\n",
    "from sklearn.neighbors import KNeighborsRegressor"
   ]
  },
  {
   "cell_type": "code",
   "execution_count": 3,
   "id": "a9acb4a5",
   "metadata": {},
   "outputs": [
    {
     "name": "stdout",
     "output_type": "stream",
     "text": [
      "<class 'pandas.core.frame.DataFrame'>\n",
      "RangeIndex: 13240 entries, 0 to 13239\n",
      "Data columns (total 10 columns):\n",
      " #   Column     Non-Null Count  Dtype         \n",
      "---  ------     --------------  -----         \n",
      " 0   StationID  13240 non-null  int64         \n",
      " 1   Date       13240 non-null  datetime64[ns]\n",
      " 2   Tmax       13240 non-null  float64       \n",
      " 3   Tmin       13240 non-null  float64       \n",
      " 4   Tdew       13240 non-null  float64       \n",
      " 5   RHav       13240 non-null  float64       \n",
      " 6   Tav        13240 non-null  float64       \n",
      " 7   Rs         13240 non-null  float64       \n",
      " 8   ws         13240 non-null  float64       \n",
      " 9   PM         13240 non-null  float64       \n",
      "dtypes: datetime64[ns](1), float64(8), int64(1)\n",
      "memory usage: 1.0 MB\n"
     ]
    },
    {
     "data": {
      "text/html": [
       "<div>\n",
       "<style scoped>\n",
       "    .dataframe tbody tr th:only-of-type {\n",
       "        vertical-align: middle;\n",
       "    }\n",
       "\n",
       "    .dataframe tbody tr th {\n",
       "        vertical-align: top;\n",
       "    }\n",
       "\n",
       "    .dataframe thead th {\n",
       "        text-align: right;\n",
       "    }\n",
       "</style>\n",
       "<table border=\"1\" class=\"dataframe\">\n",
       "  <thead>\n",
       "    <tr style=\"text-align: right;\">\n",
       "      <th></th>\n",
       "      <th>StationID</th>\n",
       "      <th>Date</th>\n",
       "      <th>Tmax</th>\n",
       "      <th>Tmin</th>\n",
       "      <th>Tdew</th>\n",
       "      <th>RHav</th>\n",
       "      <th>Tav</th>\n",
       "      <th>Rs</th>\n",
       "      <th>ws</th>\n",
       "      <th>PM</th>\n",
       "    </tr>\n",
       "  </thead>\n",
       "  <tbody>\n",
       "    <tr>\n",
       "      <th>0</th>\n",
       "      <td>250</td>\n",
       "      <td>2011-01-01</td>\n",
       "      <td>15.62</td>\n",
       "      <td>6.97</td>\n",
       "      <td>12.283542</td>\n",
       "      <td>74.5385</td>\n",
       "      <td>11.295</td>\n",
       "      <td>10.664181</td>\n",
       "      <td>0.523110</td>\n",
       "      <td>1.750236</td>\n",
       "    </tr>\n",
       "    <tr>\n",
       "      <th>1</th>\n",
       "      <td>260</td>\n",
       "      <td>2011-01-01</td>\n",
       "      <td>15.34</td>\n",
       "      <td>10.19</td>\n",
       "      <td>13.218042</td>\n",
       "      <td>73.7415</td>\n",
       "      <td>12.765</td>\n",
       "      <td>10.513628</td>\n",
       "      <td>1.229216</td>\n",
       "      <td>1.984740</td>\n",
       "    </tr>\n",
       "    <tr>\n",
       "      <th>2</th>\n",
       "      <td>440</td>\n",
       "      <td>2011-01-01</td>\n",
       "      <td>18.53</td>\n",
       "      <td>12.49</td>\n",
       "      <td>16.412042</td>\n",
       "      <td>79.4950</td>\n",
       "      <td>15.510</td>\n",
       "      <td>9.999696</td>\n",
       "      <td>1.795443</td>\n",
       "      <td>2.100595</td>\n",
       "    </tr>\n",
       "    <tr>\n",
       "      <th>3</th>\n",
       "      <td>450</td>\n",
       "      <td>2011-01-01</td>\n",
       "      <td>17.76</td>\n",
       "      <td>10.48</td>\n",
       "      <td>14.908790</td>\n",
       "      <td>76.5100</td>\n",
       "      <td>14.120</td>\n",
       "      <td>11.450830</td>\n",
       "      <td>1.397206</td>\n",
       "      <td>2.189690</td>\n",
       "    </tr>\n",
       "    <tr>\n",
       "      <th>4</th>\n",
       "      <td>250</td>\n",
       "      <td>2011-01-02</td>\n",
       "      <td>18.64</td>\n",
       "      <td>11.67</td>\n",
       "      <td>16.324250</td>\n",
       "      <td>80.2500</td>\n",
       "      <td>15.155</td>\n",
       "      <td>6.566224</td>\n",
       "      <td>1.225372</td>\n",
       "      <td>1.614004</td>\n",
       "    </tr>\n",
       "    <tr>\n",
       "      <th>...</th>\n",
       "      <td>...</td>\n",
       "      <td>...</td>\n",
       "      <td>...</td>\n",
       "      <td>...</td>\n",
       "      <td>...</td>\n",
       "      <td>...</td>\n",
       "      <td>...</td>\n",
       "      <td>...</td>\n",
       "      <td>...</td>\n",
       "      <td>...</td>\n",
       "    </tr>\n",
       "    <tr>\n",
       "      <th>13235</th>\n",
       "      <td>260</td>\n",
       "      <td>2020-12-30</td>\n",
       "      <td>17.57</td>\n",
       "      <td>7.81</td>\n",
       "      <td>13.685833</td>\n",
       "      <td>78.7150</td>\n",
       "      <td>12.690</td>\n",
       "      <td>9.839592</td>\n",
       "      <td>1.012131</td>\n",
       "      <td>1.836750</td>\n",
       "    </tr>\n",
       "    <tr>\n",
       "      <th>13236</th>\n",
       "      <td>450</td>\n",
       "      <td>2020-12-30</td>\n",
       "      <td>19.32</td>\n",
       "      <td>14.05</td>\n",
       "      <td>16.840080</td>\n",
       "      <td>78.0075</td>\n",
       "      <td>16.685</td>\n",
       "      <td>8.546898</td>\n",
       "      <td>1.778988</td>\n",
       "      <td>2.060486</td>\n",
       "    </tr>\n",
       "    <tr>\n",
       "      <th>13237</th>\n",
       "      <td>250</td>\n",
       "      <td>2020-12-31</td>\n",
       "      <td>20.10</td>\n",
       "      <td>16.72</td>\n",
       "      <td>18.507083</td>\n",
       "      <td>79.1300</td>\n",
       "      <td>18.410</td>\n",
       "      <td>7.740450</td>\n",
       "      <td>1.487246</td>\n",
       "      <td>1.932808</td>\n",
       "    </tr>\n",
       "    <tr>\n",
       "      <th>13238</th>\n",
       "      <td>260</td>\n",
       "      <td>2020-12-31</td>\n",
       "      <td>19.67</td>\n",
       "      <td>13.68</td>\n",
       "      <td>18.006250</td>\n",
       "      <td>81.8450</td>\n",
       "      <td>16.675</td>\n",
       "      <td>7.599645</td>\n",
       "      <td>1.473050</td>\n",
       "      <td>1.788100</td>\n",
       "    </tr>\n",
       "    <tr>\n",
       "      <th>13239</th>\n",
       "      <td>450</td>\n",
       "      <td>2020-12-31</td>\n",
       "      <td>21.40</td>\n",
       "      <td>18.56</td>\n",
       "      <td>19.410460</td>\n",
       "      <td>78.1940</td>\n",
       "      <td>19.980</td>\n",
       "      <td>12.489360</td>\n",
       "      <td>1.850854</td>\n",
       "      <td>2.669875</td>\n",
       "    </tr>\n",
       "  </tbody>\n",
       "</table>\n",
       "<p>13240 rows × 10 columns</p>\n",
       "</div>"
      ],
      "text/plain": [
       "       StationID       Date   Tmax   Tmin       Tdew     RHav     Tav  \\\n",
       "0            250 2011-01-01  15.62   6.97  12.283542  74.5385  11.295   \n",
       "1            260 2011-01-01  15.34  10.19  13.218042  73.7415  12.765   \n",
       "2            440 2011-01-01  18.53  12.49  16.412042  79.4950  15.510   \n",
       "3            450 2011-01-01  17.76  10.48  14.908790  76.5100  14.120   \n",
       "4            250 2011-01-02  18.64  11.67  16.324250  80.2500  15.155   \n",
       "...          ...        ...    ...    ...        ...      ...     ...   \n",
       "13235        260 2020-12-30  17.57   7.81  13.685833  78.7150  12.690   \n",
       "13236        450 2020-12-30  19.32  14.05  16.840080  78.0075  16.685   \n",
       "13237        250 2020-12-31  20.10  16.72  18.507083  79.1300  18.410   \n",
       "13238        260 2020-12-31  19.67  13.68  18.006250  81.8450  16.675   \n",
       "13239        450 2020-12-31  21.40  18.56  19.410460  78.1940  19.980   \n",
       "\n",
       "              Rs        ws        PM  \n",
       "0      10.664181  0.523110  1.750236  \n",
       "1      10.513628  1.229216  1.984740  \n",
       "2       9.999696  1.795443  2.100595  \n",
       "3      11.450830  1.397206  2.189690  \n",
       "4       6.566224  1.225372  1.614004  \n",
       "...          ...       ...       ...  \n",
       "13235   9.839592  1.012131  1.836750  \n",
       "13236   8.546898  1.778988  2.060486  \n",
       "13237   7.740450  1.487246  1.932808  \n",
       "13238   7.599645  1.473050  1.788100  \n",
       "13239  12.489360  1.850854  2.669875  \n",
       "\n",
       "[13240 rows x 10 columns]"
      ]
     },
     "execution_count": 3,
     "metadata": {},
     "output_type": "execute_result"
    }
   ],
   "source": [
    "d1=pd.read_csv(\"../DataFrom2011.csv\", parse_dates=True)\n",
    "d1['Date']=pd.to_datetime(d1['Date'])\n",
    "d1.info()\n",
    "d1"
   ]
  },
  {
   "cell_type": "code",
   "execution_count": 4,
   "id": "f7fb4fb4",
   "metadata": {},
   "outputs": [
    {
     "data": {
      "text/html": [
       "<div>\n",
       "<style scoped>\n",
       "    .dataframe tbody tr th:only-of-type {\n",
       "        vertical-align: middle;\n",
       "    }\n",
       "\n",
       "    .dataframe tbody tr th {\n",
       "        vertical-align: top;\n",
       "    }\n",
       "\n",
       "    .dataframe thead th {\n",
       "        text-align: right;\n",
       "    }\n",
       "</style>\n",
       "<table border=\"1\" class=\"dataframe\">\n",
       "  <thead>\n",
       "    <tr style=\"text-align: right;\">\n",
       "      <th></th>\n",
       "      <th>Tmax</th>\n",
       "      <th>Tmin</th>\n",
       "      <th>Tdew</th>\n",
       "      <th>RHav</th>\n",
       "      <th>Tav</th>\n",
       "      <th>Rs</th>\n",
       "      <th>ws</th>\n",
       "      <th>PM</th>\n",
       "    </tr>\n",
       "  </thead>\n",
       "  <tbody>\n",
       "    <tr>\n",
       "      <th>0</th>\n",
       "      <td>0.367468</td>\n",
       "      <td>0.378016</td>\n",
       "      <td>0.414139</td>\n",
       "      <td>0.471390</td>\n",
       "      <td>0.370632</td>\n",
       "      <td>0.347008</td>\n",
       "      <td>0.236408</td>\n",
       "      <td>0.260056</td>\n",
       "    </tr>\n",
       "    <tr>\n",
       "      <th>1</th>\n",
       "      <td>0.356440</td>\n",
       "      <td>0.485925</td>\n",
       "      <td>0.452886</td>\n",
       "      <td>0.452151</td>\n",
       "      <td>0.426771</td>\n",
       "      <td>0.342109</td>\n",
       "      <td>0.555517</td>\n",
       "      <td>0.311915</td>\n",
       "    </tr>\n",
       "    <tr>\n",
       "      <th>2</th>\n",
       "      <td>0.482080</td>\n",
       "      <td>0.563003</td>\n",
       "      <td>0.585317</td>\n",
       "      <td>0.591033</td>\n",
       "      <td>0.531602</td>\n",
       "      <td>0.325386</td>\n",
       "      <td>0.811410</td>\n",
       "      <td>0.337536</td>\n",
       "    </tr>\n",
       "    <tr>\n",
       "      <th>3</th>\n",
       "      <td>0.451753</td>\n",
       "      <td>0.495643</td>\n",
       "      <td>0.522988</td>\n",
       "      <td>0.518979</td>\n",
       "      <td>0.478518</td>\n",
       "      <td>0.372605</td>\n",
       "      <td>0.631436</td>\n",
       "      <td>0.357238</td>\n",
       "    </tr>\n",
       "    <tr>\n",
       "      <th>4</th>\n",
       "      <td>0.486412</td>\n",
       "      <td>0.535523</td>\n",
       "      <td>0.581677</td>\n",
       "      <td>0.609257</td>\n",
       "      <td>0.518045</td>\n",
       "      <td>0.213662</td>\n",
       "      <td>0.553780</td>\n",
       "      <td>0.229929</td>\n",
       "    </tr>\n",
       "  </tbody>\n",
       "</table>\n",
       "</div>"
      ],
      "text/plain": [
       "       Tmax      Tmin      Tdew      RHav       Tav        Rs        ws  \\\n",
       "0  0.367468  0.378016  0.414139  0.471390  0.370632  0.347008  0.236408   \n",
       "1  0.356440  0.485925  0.452886  0.452151  0.426771  0.342109  0.555517   \n",
       "2  0.482080  0.563003  0.585317  0.591033  0.531602  0.325386  0.811410   \n",
       "3  0.451753  0.495643  0.522988  0.518979  0.478518  0.372605  0.631436   \n",
       "4  0.486412  0.535523  0.581677  0.609257  0.518045  0.213662  0.553780   \n",
       "\n",
       "         PM  \n",
       "0  0.260056  \n",
       "1  0.311915  \n",
       "2  0.337536  \n",
       "3  0.357238  \n",
       "4  0.229929  "
      ]
     },
     "execution_count": 4,
     "metadata": {},
     "output_type": "execute_result"
    }
   ],
   "source": [
    "p = d1.drop(columns=['Date'],axis=1)\n",
    "p = p.drop(columns=['StationID'],axis=1)\n",
    "scaler = preprocessing.MinMaxScaler()\n",
    "names = p.columns\n",
    "d = scaler.fit_transform(p)\n",
    "scaled_d1 = pd.DataFrame(d, columns=names)\n",
    "scaled_d1.head()"
   ]
  },
  {
   "cell_type": "code",
   "execution_count": 5,
   "id": "9af10670",
   "metadata": {},
   "outputs": [
    {
     "data": {
      "text/html": [
       "<div>\n",
       "<style scoped>\n",
       "    .dataframe tbody tr th:only-of-type {\n",
       "        vertical-align: middle;\n",
       "    }\n",
       "\n",
       "    .dataframe tbody tr th {\n",
       "        vertical-align: top;\n",
       "    }\n",
       "\n",
       "    .dataframe thead th {\n",
       "        text-align: right;\n",
       "    }\n",
       "</style>\n",
       "<table border=\"1\" class=\"dataframe\">\n",
       "  <thead>\n",
       "    <tr style=\"text-align: right;\">\n",
       "      <th></th>\n",
       "      <th>Date</th>\n",
       "      <th>Tmax</th>\n",
       "      <th>Tmin</th>\n",
       "      <th>Tdew</th>\n",
       "      <th>RHav</th>\n",
       "      <th>Tav</th>\n",
       "      <th>Rs</th>\n",
       "      <th>ws</th>\n",
       "      <th>PM</th>\n",
       "    </tr>\n",
       "  </thead>\n",
       "  <tbody>\n",
       "    <tr>\n",
       "      <th>0</th>\n",
       "      <td>2011-01-01</td>\n",
       "      <td>0.367468</td>\n",
       "      <td>0.378016</td>\n",
       "      <td>0.414139</td>\n",
       "      <td>0.471390</td>\n",
       "      <td>0.370632</td>\n",
       "      <td>0.347008</td>\n",
       "      <td>0.236408</td>\n",
       "      <td>0.260056</td>\n",
       "    </tr>\n",
       "    <tr>\n",
       "      <th>1</th>\n",
       "      <td>2011-01-01</td>\n",
       "      <td>0.356440</td>\n",
       "      <td>0.485925</td>\n",
       "      <td>0.452886</td>\n",
       "      <td>0.452151</td>\n",
       "      <td>0.426771</td>\n",
       "      <td>0.342109</td>\n",
       "      <td>0.555517</td>\n",
       "      <td>0.311915</td>\n",
       "    </tr>\n",
       "    <tr>\n",
       "      <th>2</th>\n",
       "      <td>2011-01-01</td>\n",
       "      <td>0.482080</td>\n",
       "      <td>0.563003</td>\n",
       "      <td>0.585317</td>\n",
       "      <td>0.591033</td>\n",
       "      <td>0.531602</td>\n",
       "      <td>0.325386</td>\n",
       "      <td>0.811410</td>\n",
       "      <td>0.337536</td>\n",
       "    </tr>\n",
       "    <tr>\n",
       "      <th>3</th>\n",
       "      <td>2011-01-01</td>\n",
       "      <td>0.451753</td>\n",
       "      <td>0.495643</td>\n",
       "      <td>0.522988</td>\n",
       "      <td>0.518979</td>\n",
       "      <td>0.478518</td>\n",
       "      <td>0.372605</td>\n",
       "      <td>0.631436</td>\n",
       "      <td>0.357238</td>\n",
       "    </tr>\n",
       "    <tr>\n",
       "      <th>4</th>\n",
       "      <td>2011-01-02</td>\n",
       "      <td>0.486412</td>\n",
       "      <td>0.535523</td>\n",
       "      <td>0.581677</td>\n",
       "      <td>0.609257</td>\n",
       "      <td>0.518045</td>\n",
       "      <td>0.213662</td>\n",
       "      <td>0.553780</td>\n",
       "      <td>0.229929</td>\n",
       "    </tr>\n",
       "    <tr>\n",
       "      <th>...</th>\n",
       "      <td>...</td>\n",
       "      <td>...</td>\n",
       "      <td>...</td>\n",
       "      <td>...</td>\n",
       "      <td>...</td>\n",
       "      <td>...</td>\n",
       "      <td>...</td>\n",
       "      <td>...</td>\n",
       "      <td>...</td>\n",
       "    </tr>\n",
       "    <tr>\n",
       "      <th>13235</th>\n",
       "      <td>2020-12-30</td>\n",
       "      <td>0.444269</td>\n",
       "      <td>0.406166</td>\n",
       "      <td>0.472281</td>\n",
       "      <td>0.572204</td>\n",
       "      <td>0.423907</td>\n",
       "      <td>0.320176</td>\n",
       "      <td>0.457410</td>\n",
       "      <td>0.279188</td>\n",
       "    </tr>\n",
       "    <tr>\n",
       "      <th>13236</th>\n",
       "      <td>2020-12-30</td>\n",
       "      <td>0.513194</td>\n",
       "      <td>0.615282</td>\n",
       "      <td>0.603064</td>\n",
       "      <td>0.555126</td>\n",
       "      <td>0.576475</td>\n",
       "      <td>0.278113</td>\n",
       "      <td>0.803974</td>\n",
       "      <td>0.328666</td>\n",
       "    </tr>\n",
       "    <tr>\n",
       "      <th>13237</th>\n",
       "      <td>2020-12-31</td>\n",
       "      <td>0.543915</td>\n",
       "      <td>0.704759</td>\n",
       "      <td>0.672182</td>\n",
       "      <td>0.582222</td>\n",
       "      <td>0.642352</td>\n",
       "      <td>0.251871</td>\n",
       "      <td>0.672128</td>\n",
       "      <td>0.300431</td>\n",
       "    </tr>\n",
       "    <tr>\n",
       "      <th>13238</th>\n",
       "      <td>2020-12-31</td>\n",
       "      <td>0.526979</td>\n",
       "      <td>0.602882</td>\n",
       "      <td>0.651417</td>\n",
       "      <td>0.647758</td>\n",
       "      <td>0.576093</td>\n",
       "      <td>0.247289</td>\n",
       "      <td>0.665712</td>\n",
       "      <td>0.268429</td>\n",
       "    </tr>\n",
       "    <tr>\n",
       "      <th>13239</th>\n",
       "      <td>2020-12-31</td>\n",
       "      <td>0.595116</td>\n",
       "      <td>0.766421</td>\n",
       "      <td>0.709638</td>\n",
       "      <td>0.559628</td>\n",
       "      <td>0.702310</td>\n",
       "      <td>0.406399</td>\n",
       "      <td>0.836452</td>\n",
       "      <td>0.463428</td>\n",
       "    </tr>\n",
       "  </tbody>\n",
       "</table>\n",
       "<p>13240 rows × 9 columns</p>\n",
       "</div>"
      ],
      "text/plain": [
       "            Date      Tmax      Tmin      Tdew      RHav       Tav        Rs  \\\n",
       "0     2011-01-01  0.367468  0.378016  0.414139  0.471390  0.370632  0.347008   \n",
       "1     2011-01-01  0.356440  0.485925  0.452886  0.452151  0.426771  0.342109   \n",
       "2     2011-01-01  0.482080  0.563003  0.585317  0.591033  0.531602  0.325386   \n",
       "3     2011-01-01  0.451753  0.495643  0.522988  0.518979  0.478518  0.372605   \n",
       "4     2011-01-02  0.486412  0.535523  0.581677  0.609257  0.518045  0.213662   \n",
       "...          ...       ...       ...       ...       ...       ...       ...   \n",
       "13235 2020-12-30  0.444269  0.406166  0.472281  0.572204  0.423907  0.320176   \n",
       "13236 2020-12-30  0.513194  0.615282  0.603064  0.555126  0.576475  0.278113   \n",
       "13237 2020-12-31  0.543915  0.704759  0.672182  0.582222  0.642352  0.251871   \n",
       "13238 2020-12-31  0.526979  0.602882  0.651417  0.647758  0.576093  0.247289   \n",
       "13239 2020-12-31  0.595116  0.766421  0.709638  0.559628  0.702310  0.406399   \n",
       "\n",
       "             ws        PM  \n",
       "0      0.236408  0.260056  \n",
       "1      0.555517  0.311915  \n",
       "2      0.811410  0.337536  \n",
       "3      0.631436  0.357238  \n",
       "4      0.553780  0.229929  \n",
       "...         ...       ...  \n",
       "13235  0.457410  0.279188  \n",
       "13236  0.803974  0.328666  \n",
       "13237  0.672128  0.300431  \n",
       "13238  0.665712  0.268429  \n",
       "13239  0.836452  0.463428  \n",
       "\n",
       "[13240 rows x 9 columns]"
      ]
     },
     "execution_count": 5,
     "metadata": {},
     "output_type": "execute_result"
    }
   ],
   "source": [
    "d1 = pd.concat([d1['Date'], scaled_d1], axis=1) \n",
    "d1"
   ]
  },
  {
   "cell_type": "code",
   "execution_count": 6,
   "id": "69e0e3cf",
   "metadata": {},
   "outputs": [
    {
     "data": {
      "text/html": [
       "<div>\n",
       "<style scoped>\n",
       "    .dataframe tbody tr th:only-of-type {\n",
       "        vertical-align: middle;\n",
       "    }\n",
       "\n",
       "    .dataframe tbody tr th {\n",
       "        vertical-align: top;\n",
       "    }\n",
       "\n",
       "    .dataframe thead th {\n",
       "        text-align: right;\n",
       "    }\n",
       "</style>\n",
       "<table border=\"1\" class=\"dataframe\">\n",
       "  <thead>\n",
       "    <tr style=\"text-align: right;\">\n",
       "      <th></th>\n",
       "      <th>Tmax</th>\n",
       "      <th>Tmin</th>\n",
       "      <th>Tdew</th>\n",
       "      <th>RHav</th>\n",
       "      <th>Tav</th>\n",
       "      <th>Rs</th>\n",
       "      <th>ws</th>\n",
       "      <th>PM</th>\n",
       "    </tr>\n",
       "    <tr>\n",
       "      <th>Date</th>\n",
       "      <th></th>\n",
       "      <th></th>\n",
       "      <th></th>\n",
       "      <th></th>\n",
       "      <th></th>\n",
       "      <th></th>\n",
       "      <th></th>\n",
       "      <th></th>\n",
       "    </tr>\n",
       "  </thead>\n",
       "  <tbody>\n",
       "    <tr>\n",
       "      <th>2011-01-01</th>\n",
       "      <td>0.367468</td>\n",
       "      <td>0.378016</td>\n",
       "      <td>0.414139</td>\n",
       "      <td>0.471390</td>\n",
       "      <td>0.370632</td>\n",
       "      <td>0.347008</td>\n",
       "      <td>0.236408</td>\n",
       "      <td>0.260056</td>\n",
       "    </tr>\n",
       "    <tr>\n",
       "      <th>2011-01-01</th>\n",
       "      <td>0.356440</td>\n",
       "      <td>0.485925</td>\n",
       "      <td>0.452886</td>\n",
       "      <td>0.452151</td>\n",
       "      <td>0.426771</td>\n",
       "      <td>0.342109</td>\n",
       "      <td>0.555517</td>\n",
       "      <td>0.311915</td>\n",
       "    </tr>\n",
       "    <tr>\n",
       "      <th>2011-01-01</th>\n",
       "      <td>0.482080</td>\n",
       "      <td>0.563003</td>\n",
       "      <td>0.585317</td>\n",
       "      <td>0.591033</td>\n",
       "      <td>0.531602</td>\n",
       "      <td>0.325386</td>\n",
       "      <td>0.811410</td>\n",
       "      <td>0.337536</td>\n",
       "    </tr>\n",
       "    <tr>\n",
       "      <th>2011-01-01</th>\n",
       "      <td>0.451753</td>\n",
       "      <td>0.495643</td>\n",
       "      <td>0.522988</td>\n",
       "      <td>0.518979</td>\n",
       "      <td>0.478518</td>\n",
       "      <td>0.372605</td>\n",
       "      <td>0.631436</td>\n",
       "      <td>0.357238</td>\n",
       "    </tr>\n",
       "    <tr>\n",
       "      <th>2011-01-02</th>\n",
       "      <td>0.486412</td>\n",
       "      <td>0.535523</td>\n",
       "      <td>0.581677</td>\n",
       "      <td>0.609257</td>\n",
       "      <td>0.518045</td>\n",
       "      <td>0.213662</td>\n",
       "      <td>0.553780</td>\n",
       "      <td>0.229929</td>\n",
       "    </tr>\n",
       "    <tr>\n",
       "      <th>...</th>\n",
       "      <td>...</td>\n",
       "      <td>...</td>\n",
       "      <td>...</td>\n",
       "      <td>...</td>\n",
       "      <td>...</td>\n",
       "      <td>...</td>\n",
       "      <td>...</td>\n",
       "      <td>...</td>\n",
       "    </tr>\n",
       "    <tr>\n",
       "      <th>2020-12-30</th>\n",
       "      <td>0.444269</td>\n",
       "      <td>0.406166</td>\n",
       "      <td>0.472281</td>\n",
       "      <td>0.572204</td>\n",
       "      <td>0.423907</td>\n",
       "      <td>0.320176</td>\n",
       "      <td>0.457410</td>\n",
       "      <td>0.279188</td>\n",
       "    </tr>\n",
       "    <tr>\n",
       "      <th>2020-12-30</th>\n",
       "      <td>0.513194</td>\n",
       "      <td>0.615282</td>\n",
       "      <td>0.603064</td>\n",
       "      <td>0.555126</td>\n",
       "      <td>0.576475</td>\n",
       "      <td>0.278113</td>\n",
       "      <td>0.803974</td>\n",
       "      <td>0.328666</td>\n",
       "    </tr>\n",
       "    <tr>\n",
       "      <th>2020-12-31</th>\n",
       "      <td>0.543915</td>\n",
       "      <td>0.704759</td>\n",
       "      <td>0.672182</td>\n",
       "      <td>0.582222</td>\n",
       "      <td>0.642352</td>\n",
       "      <td>0.251871</td>\n",
       "      <td>0.672128</td>\n",
       "      <td>0.300431</td>\n",
       "    </tr>\n",
       "    <tr>\n",
       "      <th>2020-12-31</th>\n",
       "      <td>0.526979</td>\n",
       "      <td>0.602882</td>\n",
       "      <td>0.651417</td>\n",
       "      <td>0.647758</td>\n",
       "      <td>0.576093</td>\n",
       "      <td>0.247289</td>\n",
       "      <td>0.665712</td>\n",
       "      <td>0.268429</td>\n",
       "    </tr>\n",
       "    <tr>\n",
       "      <th>2020-12-31</th>\n",
       "      <td>0.595116</td>\n",
       "      <td>0.766421</td>\n",
       "      <td>0.709638</td>\n",
       "      <td>0.559628</td>\n",
       "      <td>0.702310</td>\n",
       "      <td>0.406399</td>\n",
       "      <td>0.836452</td>\n",
       "      <td>0.463428</td>\n",
       "    </tr>\n",
       "  </tbody>\n",
       "</table>\n",
       "<p>13240 rows × 8 columns</p>\n",
       "</div>"
      ],
      "text/plain": [
       "                Tmax      Tmin      Tdew      RHav       Tav        Rs  \\\n",
       "Date                                                                     \n",
       "2011-01-01  0.367468  0.378016  0.414139  0.471390  0.370632  0.347008   \n",
       "2011-01-01  0.356440  0.485925  0.452886  0.452151  0.426771  0.342109   \n",
       "2011-01-01  0.482080  0.563003  0.585317  0.591033  0.531602  0.325386   \n",
       "2011-01-01  0.451753  0.495643  0.522988  0.518979  0.478518  0.372605   \n",
       "2011-01-02  0.486412  0.535523  0.581677  0.609257  0.518045  0.213662   \n",
       "...              ...       ...       ...       ...       ...       ...   \n",
       "2020-12-30  0.444269  0.406166  0.472281  0.572204  0.423907  0.320176   \n",
       "2020-12-30  0.513194  0.615282  0.603064  0.555126  0.576475  0.278113   \n",
       "2020-12-31  0.543915  0.704759  0.672182  0.582222  0.642352  0.251871   \n",
       "2020-12-31  0.526979  0.602882  0.651417  0.647758  0.576093  0.247289   \n",
       "2020-12-31  0.595116  0.766421  0.709638  0.559628  0.702310  0.406399   \n",
       "\n",
       "                  ws        PM  \n",
       "Date                            \n",
       "2011-01-01  0.236408  0.260056  \n",
       "2011-01-01  0.555517  0.311915  \n",
       "2011-01-01  0.811410  0.337536  \n",
       "2011-01-01  0.631436  0.357238  \n",
       "2011-01-02  0.553780  0.229929  \n",
       "...              ...       ...  \n",
       "2020-12-30  0.457410  0.279188  \n",
       "2020-12-30  0.803974  0.328666  \n",
       "2020-12-31  0.672128  0.300431  \n",
       "2020-12-31  0.665712  0.268429  \n",
       "2020-12-31  0.836452  0.463428  \n",
       "\n",
       "[13240 rows x 8 columns]"
      ]
     },
     "execution_count": 6,
     "metadata": {},
     "output_type": "execute_result"
    }
   ],
   "source": [
    "d1 = d1.set_index(['Date'])\n",
    "d1"
   ]
  },
  {
   "cell_type": "code",
   "execution_count": 6,
   "id": "83da0ea4",
   "metadata": {},
   "outputs": [
    {
     "data": {
      "text/html": [
       "<div>\n",
       "<style scoped>\n",
       "    .dataframe tbody tr th:only-of-type {\n",
       "        vertical-align: middle;\n",
       "    }\n",
       "\n",
       "    .dataframe tbody tr th {\n",
       "        vertical-align: top;\n",
       "    }\n",
       "\n",
       "    .dataframe thead th {\n",
       "        text-align: right;\n",
       "    }\n",
       "</style>\n",
       "<table border=\"1\" class=\"dataframe\">\n",
       "  <thead>\n",
       "    <tr style=\"text-align: right;\">\n",
       "      <th></th>\n",
       "      <th>Tmax</th>\n",
       "      <th>RHav</th>\n",
       "      <th>Tav</th>\n",
       "      <th>Rs</th>\n",
       "    </tr>\n",
       "    <tr>\n",
       "      <th>Date</th>\n",
       "      <th></th>\n",
       "      <th></th>\n",
       "      <th></th>\n",
       "      <th></th>\n",
       "    </tr>\n",
       "  </thead>\n",
       "  <tbody>\n",
       "    <tr>\n",
       "      <th>2011-01-01</th>\n",
       "      <td>0.367468</td>\n",
       "      <td>0.471390</td>\n",
       "      <td>0.370632</td>\n",
       "      <td>0.347008</td>\n",
       "    </tr>\n",
       "    <tr>\n",
       "      <th>2011-01-01</th>\n",
       "      <td>0.356440</td>\n",
       "      <td>0.452151</td>\n",
       "      <td>0.426771</td>\n",
       "      <td>0.342109</td>\n",
       "    </tr>\n",
       "    <tr>\n",
       "      <th>2011-01-01</th>\n",
       "      <td>0.482080</td>\n",
       "      <td>0.591033</td>\n",
       "      <td>0.531602</td>\n",
       "      <td>0.325386</td>\n",
       "    </tr>\n",
       "    <tr>\n",
       "      <th>2011-01-01</th>\n",
       "      <td>0.451753</td>\n",
       "      <td>0.518979</td>\n",
       "      <td>0.478518</td>\n",
       "      <td>0.372605</td>\n",
       "    </tr>\n",
       "    <tr>\n",
       "      <th>2011-01-02</th>\n",
       "      <td>0.486412</td>\n",
       "      <td>0.609257</td>\n",
       "      <td>0.518045</td>\n",
       "      <td>0.213662</td>\n",
       "    </tr>\n",
       "    <tr>\n",
       "      <th>...</th>\n",
       "      <td>...</td>\n",
       "      <td>...</td>\n",
       "      <td>...</td>\n",
       "      <td>...</td>\n",
       "    </tr>\n",
       "    <tr>\n",
       "      <th>2020-12-30</th>\n",
       "      <td>0.444269</td>\n",
       "      <td>0.572204</td>\n",
       "      <td>0.423907</td>\n",
       "      <td>0.320176</td>\n",
       "    </tr>\n",
       "    <tr>\n",
       "      <th>2020-12-30</th>\n",
       "      <td>0.513194</td>\n",
       "      <td>0.555126</td>\n",
       "      <td>0.576475</td>\n",
       "      <td>0.278113</td>\n",
       "    </tr>\n",
       "    <tr>\n",
       "      <th>2020-12-31</th>\n",
       "      <td>0.543915</td>\n",
       "      <td>0.582222</td>\n",
       "      <td>0.642352</td>\n",
       "      <td>0.251871</td>\n",
       "    </tr>\n",
       "    <tr>\n",
       "      <th>2020-12-31</th>\n",
       "      <td>0.526979</td>\n",
       "      <td>0.647758</td>\n",
       "      <td>0.576093</td>\n",
       "      <td>0.247289</td>\n",
       "    </tr>\n",
       "    <tr>\n",
       "      <th>2020-12-31</th>\n",
       "      <td>0.595116</td>\n",
       "      <td>0.559628</td>\n",
       "      <td>0.702310</td>\n",
       "      <td>0.406399</td>\n",
       "    </tr>\n",
       "  </tbody>\n",
       "</table>\n",
       "<p>13240 rows × 4 columns</p>\n",
       "</div>"
      ],
      "text/plain": [
       "                Tmax      RHav       Tav        Rs\n",
       "Date                                              \n",
       "2011-01-01  0.367468  0.471390  0.370632  0.347008\n",
       "2011-01-01  0.356440  0.452151  0.426771  0.342109\n",
       "2011-01-01  0.482080  0.591033  0.531602  0.325386\n",
       "2011-01-01  0.451753  0.518979  0.478518  0.372605\n",
       "2011-01-02  0.486412  0.609257  0.518045  0.213662\n",
       "...              ...       ...       ...       ...\n",
       "2020-12-30  0.444269  0.572204  0.423907  0.320176\n",
       "2020-12-30  0.513194  0.555126  0.576475  0.278113\n",
       "2020-12-31  0.543915  0.582222  0.642352  0.251871\n",
       "2020-12-31  0.526979  0.647758  0.576093  0.247289\n",
       "2020-12-31  0.595116  0.559628  0.702310  0.406399\n",
       "\n",
       "[13240 rows x 4 columns]"
      ]
     },
     "execution_count": 6,
     "metadata": {},
     "output_type": "execute_result"
    }
   ],
   "source": [
    "predictors=d1.drop(columns=['PM','Tdew','ws','Tmin'])\n",
    "predictors"
   ]
  },
  {
   "cell_type": "code",
   "execution_count": 7,
   "id": "009ea954",
   "metadata": {},
   "outputs": [
    {
     "data": {
      "text/plain": [
       "Date\n",
       "2011-01-01    0.260056\n",
       "2011-01-01    0.311915\n",
       "2011-01-01    0.337536\n",
       "2011-01-01    0.357238\n",
       "2011-01-02    0.229929\n",
       "                ...   \n",
       "2020-12-30    0.279188\n",
       "2020-12-30    0.328666\n",
       "2020-12-31    0.300431\n",
       "2020-12-31    0.268429\n",
       "2020-12-31    0.463428\n",
       "Name: PM, Length: 13240, dtype: float64"
      ]
     },
     "execution_count": 7,
     "metadata": {},
     "output_type": "execute_result"
    }
   ],
   "source": [
    "target=d1['PM']\n",
    "target"
   ]
  },
  {
   "cell_type": "code",
   "execution_count": 8,
   "id": "7bffb5db",
   "metadata": {},
   "outputs": [],
   "source": [
    "predictors=np.array(predictors)\n",
    "target=np.array(target)"
   ]
  },
  {
   "cell_type": "code",
   "execution_count": 9,
   "id": "c797aa47",
   "metadata": {},
   "outputs": [
    {
     "name": "stdout",
     "output_type": "stream",
     "text": [
      "(10605, 4)\n",
      "(10605,)\n",
      "(2635, 4)\n",
      "(2635,)\n"
     ]
    }
   ],
   "source": [
    "nobs = 2635\n",
    "train_features, test_features = predictors[0:-nobs], predictors[-nobs:]\n",
    "train_labels, test_labels = target[0:-nobs], target[-nobs:]\n",
    "\n",
    "# Check size\n",
    "print(train_features.shape)  \n",
    "print(train_labels.shape)  \n",
    "print(test_features.shape)  \n",
    "print(test_labels.shape) \n"
   ]
  },
  {
   "cell_type": "code",
   "execution_count": 11,
   "id": "b61e76af",
   "metadata": {},
   "outputs": [
    {
     "name": "stderr",
     "output_type": "stream",
     "text": [
      "C:\\Users\\Pc\\anaconda3\\lib\\site-packages\\sklearn\\model_selection\\_search.py:306: UserWarning: The total space of parameters 8 is smaller than n_iter=10. Running 8 iterations. For exhaustive searches, use GridSearchCV.\n",
      "  warnings.warn(\n"
     ]
    },
    {
     "name": "stdout",
     "output_type": "stream",
     "text": [
      "Fitting 5 folds for each of 8 candidates, totalling 40 fits\n",
      "{'n_neighbors': 17}\n"
     ]
    }
   ],
   "source": [
    "param_grid = { 'n_neighbors' : [5,7,9,11,13,15,17,21] }\n",
    "grid_search = RandomizedSearchCV( KNeighborsRegressor(), param_grid, \n",
    "                 cv = 5, n_jobs = -1, verbose = 2, scoring=\"neg_mean_squared_error\")\n",
    "grid_search.fit(train_features, train_labels)\n",
    "print(grid_search.best_params_)"
   ]
  },
  {
   "cell_type": "code",
   "execution_count": 12,
   "id": "1451259a",
   "metadata": {},
   "outputs": [],
   "source": [
    "best_pipe=grid_search.best_estimator_"
   ]
  },
  {
   "cell_type": "code",
   "execution_count": 13,
   "id": "ad551c6e",
   "metadata": {},
   "outputs": [
    {
     "name": "stdout",
     "output_type": "stream",
     "text": [
      "MAE=  0.01965588685749449\n",
      "MAPE=  0.05679267618068646\n",
      "MSE=  0.0007036023579118363\n",
      "R^2 train: 0.979301459269379\n"
     ]
    }
   ],
   "source": [
    "ypred1=best_pipe.predict(test_features)\n",
    "print(\"MAE= \", mean_absolute_error(test_labels, ypred1))\n",
    "print(\"MAPE= \",mean_absolute_percentage_error(test_labels, ypred1))\n",
    "print(\"MSE= \",mean_squared_error(test_labels, ypred1))\n",
    "print('R^2 train:', r2_score(test_labels, ypred1))"
   ]
  },
  {
   "cell_type": "code",
   "execution_count": 14,
   "id": "bac6407b",
   "metadata": {},
   "outputs": [
    {
     "data": {
      "text/plain": [
       "array([0.35459962, 0.34470419, 0.37152325, ..., 0.29018493, 0.25727169,\n",
       "       0.434373  ])"
      ]
     },
     "execution_count": 14,
     "metadata": {},
     "output_type": "execute_result"
    }
   ],
   "source": [
    "ypred1"
   ]
  },
  {
   "cell_type": "code",
   "execution_count": 15,
   "id": "46f2d85d",
   "metadata": {},
   "outputs": [
    {
     "data": {
      "text/plain": [
       "array([0.32676723, 0.32187252, 0.36438484, ..., 0.3004307 , 0.26842943,\n",
       "       0.46342814])"
      ]
     },
     "execution_count": 15,
     "metadata": {},
     "output_type": "execute_result"
    }
   ],
   "source": [
    "test_labels"
   ]
  },
  {
   "cell_type": "code",
   "execution_count": 16,
   "id": "27d81736",
   "metadata": {},
   "outputs": [
    {
     "data": {
      "text/plain": [
       "['.KNN1.joblib']"
      ]
     },
     "execution_count": 16,
     "metadata": {},
     "output_type": "execute_result"
    }
   ],
   "source": [
    "import joblib\n",
    "joblib.dump(best_pipe, \".KNN1.joblib\")"
   ]
  },
  {
   "cell_type": "code",
   "execution_count": null,
   "id": "c543bb64",
   "metadata": {},
   "outputs": [],
   "source": [
    "##############################################################################################"
   ]
  },
  {
   "cell_type": "code",
   "execution_count": 10,
   "id": "2f64ac3d",
   "metadata": {},
   "outputs": [],
   "source": [
    "################# Model 2 Tmax, RHav, Tav ###################################"
   ]
  },
  {
   "cell_type": "code",
   "execution_count": 18,
   "id": "6cdd072e",
   "metadata": {},
   "outputs": [
    {
     "data": {
      "text/html": [
       "<div>\n",
       "<style scoped>\n",
       "    .dataframe tbody tr th:only-of-type {\n",
       "        vertical-align: middle;\n",
       "    }\n",
       "\n",
       "    .dataframe tbody tr th {\n",
       "        vertical-align: top;\n",
       "    }\n",
       "\n",
       "    .dataframe thead th {\n",
       "        text-align: right;\n",
       "    }\n",
       "</style>\n",
       "<table border=\"1\" class=\"dataframe\">\n",
       "  <thead>\n",
       "    <tr style=\"text-align: right;\">\n",
       "      <th></th>\n",
       "      <th>Tmax</th>\n",
       "      <th>RHav</th>\n",
       "      <th>Tav</th>\n",
       "    </tr>\n",
       "    <tr>\n",
       "      <th>Date</th>\n",
       "      <th></th>\n",
       "      <th></th>\n",
       "      <th></th>\n",
       "    </tr>\n",
       "  </thead>\n",
       "  <tbody>\n",
       "    <tr>\n",
       "      <th>2011-01-01</th>\n",
       "      <td>0.367468</td>\n",
       "      <td>0.471390</td>\n",
       "      <td>0.370632</td>\n",
       "    </tr>\n",
       "    <tr>\n",
       "      <th>2011-01-01</th>\n",
       "      <td>0.356440</td>\n",
       "      <td>0.452151</td>\n",
       "      <td>0.426771</td>\n",
       "    </tr>\n",
       "    <tr>\n",
       "      <th>2011-01-01</th>\n",
       "      <td>0.482080</td>\n",
       "      <td>0.591033</td>\n",
       "      <td>0.531602</td>\n",
       "    </tr>\n",
       "    <tr>\n",
       "      <th>2011-01-01</th>\n",
       "      <td>0.451753</td>\n",
       "      <td>0.518979</td>\n",
       "      <td>0.478518</td>\n",
       "    </tr>\n",
       "    <tr>\n",
       "      <th>2011-01-02</th>\n",
       "      <td>0.486412</td>\n",
       "      <td>0.609257</td>\n",
       "      <td>0.518045</td>\n",
       "    </tr>\n",
       "    <tr>\n",
       "      <th>...</th>\n",
       "      <td>...</td>\n",
       "      <td>...</td>\n",
       "      <td>...</td>\n",
       "    </tr>\n",
       "    <tr>\n",
       "      <th>2020-12-30</th>\n",
       "      <td>0.444269</td>\n",
       "      <td>0.572204</td>\n",
       "      <td>0.423907</td>\n",
       "    </tr>\n",
       "    <tr>\n",
       "      <th>2020-12-30</th>\n",
       "      <td>0.513194</td>\n",
       "      <td>0.555126</td>\n",
       "      <td>0.576475</td>\n",
       "    </tr>\n",
       "    <tr>\n",
       "      <th>2020-12-31</th>\n",
       "      <td>0.543915</td>\n",
       "      <td>0.582222</td>\n",
       "      <td>0.642352</td>\n",
       "    </tr>\n",
       "    <tr>\n",
       "      <th>2020-12-31</th>\n",
       "      <td>0.526979</td>\n",
       "      <td>0.647758</td>\n",
       "      <td>0.576093</td>\n",
       "    </tr>\n",
       "    <tr>\n",
       "      <th>2020-12-31</th>\n",
       "      <td>0.595116</td>\n",
       "      <td>0.559628</td>\n",
       "      <td>0.702310</td>\n",
       "    </tr>\n",
       "  </tbody>\n",
       "</table>\n",
       "<p>13240 rows × 3 columns</p>\n",
       "</div>"
      ],
      "text/plain": [
       "                Tmax      RHav       Tav\n",
       "Date                                    \n",
       "2011-01-01  0.367468  0.471390  0.370632\n",
       "2011-01-01  0.356440  0.452151  0.426771\n",
       "2011-01-01  0.482080  0.591033  0.531602\n",
       "2011-01-01  0.451753  0.518979  0.478518\n",
       "2011-01-02  0.486412  0.609257  0.518045\n",
       "...              ...       ...       ...\n",
       "2020-12-30  0.444269  0.572204  0.423907\n",
       "2020-12-30  0.513194  0.555126  0.576475\n",
       "2020-12-31  0.543915  0.582222  0.642352\n",
       "2020-12-31  0.526979  0.647758  0.576093\n",
       "2020-12-31  0.595116  0.559628  0.702310\n",
       "\n",
       "[13240 rows x 3 columns]"
      ]
     },
     "execution_count": 18,
     "metadata": {},
     "output_type": "execute_result"
    }
   ],
   "source": [
    "predictors2=d1.drop(columns=['PM','Tdew','ws','Tmin','Rs'])\n",
    "predictors2"
   ]
  },
  {
   "cell_type": "code",
   "execution_count": 19,
   "id": "6d57f949",
   "metadata": {},
   "outputs": [
    {
     "name": "stdout",
     "output_type": "stream",
     "text": [
      "(10605, 3)\n",
      "(10605,)\n",
      "(2635, 3)\n",
      "(2635,)\n"
     ]
    }
   ],
   "source": [
    "predictors2=np.array(predictors2)\n",
    "nobs = 2635\n",
    "train_features, test_features = predictors2[0:-nobs], predictors2[-nobs:]\n",
    "train_labels, test_labels = target[0:-nobs], target[-nobs:]\n",
    "# Check size\n",
    "print(train_features.shape)  \n",
    "print(train_labels.shape)  \n",
    "print(test_features.shape)  \n",
    "print(test_labels.shape)"
   ]
  },
  {
   "cell_type": "code",
   "execution_count": 23,
   "id": "2009c864",
   "metadata": {},
   "outputs": [
    {
     "name": "stdout",
     "output_type": "stream",
     "text": [
      "Fitting 5 folds for each of 10 candidates, totalling 50 fits\n",
      "{'n_neighbors': 25}\n"
     ]
    }
   ],
   "source": [
    "param_grid = { 'n_neighbors' : [5,7,9,11,13,15,17,21,23,25,27,29] }\n",
    "grid_search = RandomizedSearchCV( KNeighborsRegressor(), param_grid, \n",
    "                 cv = 5, n_jobs = -1, verbose = 2, scoring=\"neg_mean_squared_error\")\n",
    "grid_search.fit(train_features, train_labels)\n",
    "print(grid_search.best_params_)"
   ]
  },
  {
   "cell_type": "code",
   "execution_count": 24,
   "id": "76c3520b",
   "metadata": {},
   "outputs": [],
   "source": [
    "best_pipe=grid_search.best_estimator_"
   ]
  },
  {
   "cell_type": "code",
   "execution_count": 25,
   "id": "511e1909",
   "metadata": {},
   "outputs": [
    {
     "name": "stdout",
     "output_type": "stream",
     "text": [
      "MAE=  0.07080074538819059\n",
      "MAPE=  0.1993284653722501\n",
      "MSE=  0.008658788808816662\n",
      "R^2 train: 0.7452761622785887\n"
     ]
    },
    {
     "data": {
      "text/plain": [
       "['.KNN2.joblib']"
      ]
     },
     "execution_count": 25,
     "metadata": {},
     "output_type": "execute_result"
    }
   ],
   "source": [
    "ypred1=best_pipe.predict(test_features)\n",
    "print(\"MAE= \", mean_absolute_error(test_labels, ypred1))\n",
    "print(\"MAPE= \",mean_absolute_percentage_error(test_labels, ypred1))\n",
    "print(\"MSE= \",mean_squared_error(test_labels, ypred1))\n",
    "print('R^2 train:', r2_score(test_labels, ypred1))\n",
    "joblib.dump(best_pipe, \".KNN2.joblib\")"
   ]
  },
  {
   "cell_type": "code",
   "execution_count": null,
   "id": "a9c2ad8c",
   "metadata": {},
   "outputs": [],
   "source": [
    "######################################################################################################"
   ]
  },
  {
   "cell_type": "code",
   "execution_count": null,
   "id": "0a5e6325",
   "metadata": {},
   "outputs": [],
   "source": [
    "###################### model 3 Tmax, RHav, Rs ########################################################"
   ]
  },
  {
   "cell_type": "code",
   "execution_count": 27,
   "id": "51a53f86",
   "metadata": {},
   "outputs": [
    {
     "data": {
      "text/html": [
       "<div>\n",
       "<style scoped>\n",
       "    .dataframe tbody tr th:only-of-type {\n",
       "        vertical-align: middle;\n",
       "    }\n",
       "\n",
       "    .dataframe tbody tr th {\n",
       "        vertical-align: top;\n",
       "    }\n",
       "\n",
       "    .dataframe thead th {\n",
       "        text-align: right;\n",
       "    }\n",
       "</style>\n",
       "<table border=\"1\" class=\"dataframe\">\n",
       "  <thead>\n",
       "    <tr style=\"text-align: right;\">\n",
       "      <th></th>\n",
       "      <th>Tmax</th>\n",
       "      <th>RHav</th>\n",
       "      <th>Rs</th>\n",
       "    </tr>\n",
       "    <tr>\n",
       "      <th>Date</th>\n",
       "      <th></th>\n",
       "      <th></th>\n",
       "      <th></th>\n",
       "    </tr>\n",
       "  </thead>\n",
       "  <tbody>\n",
       "    <tr>\n",
       "      <th>2011-01-01</th>\n",
       "      <td>0.367468</td>\n",
       "      <td>0.471390</td>\n",
       "      <td>0.347008</td>\n",
       "    </tr>\n",
       "    <tr>\n",
       "      <th>2011-01-01</th>\n",
       "      <td>0.356440</td>\n",
       "      <td>0.452151</td>\n",
       "      <td>0.342109</td>\n",
       "    </tr>\n",
       "    <tr>\n",
       "      <th>2011-01-01</th>\n",
       "      <td>0.482080</td>\n",
       "      <td>0.591033</td>\n",
       "      <td>0.325386</td>\n",
       "    </tr>\n",
       "    <tr>\n",
       "      <th>2011-01-01</th>\n",
       "      <td>0.451753</td>\n",
       "      <td>0.518979</td>\n",
       "      <td>0.372605</td>\n",
       "    </tr>\n",
       "    <tr>\n",
       "      <th>2011-01-02</th>\n",
       "      <td>0.486412</td>\n",
       "      <td>0.609257</td>\n",
       "      <td>0.213662</td>\n",
       "    </tr>\n",
       "    <tr>\n",
       "      <th>...</th>\n",
       "      <td>...</td>\n",
       "      <td>...</td>\n",
       "      <td>...</td>\n",
       "    </tr>\n",
       "    <tr>\n",
       "      <th>2020-12-30</th>\n",
       "      <td>0.444269</td>\n",
       "      <td>0.572204</td>\n",
       "      <td>0.320176</td>\n",
       "    </tr>\n",
       "    <tr>\n",
       "      <th>2020-12-30</th>\n",
       "      <td>0.513194</td>\n",
       "      <td>0.555126</td>\n",
       "      <td>0.278113</td>\n",
       "    </tr>\n",
       "    <tr>\n",
       "      <th>2020-12-31</th>\n",
       "      <td>0.543915</td>\n",
       "      <td>0.582222</td>\n",
       "      <td>0.251871</td>\n",
       "    </tr>\n",
       "    <tr>\n",
       "      <th>2020-12-31</th>\n",
       "      <td>0.526979</td>\n",
       "      <td>0.647758</td>\n",
       "      <td>0.247289</td>\n",
       "    </tr>\n",
       "    <tr>\n",
       "      <th>2020-12-31</th>\n",
       "      <td>0.595116</td>\n",
       "      <td>0.559628</td>\n",
       "      <td>0.406399</td>\n",
       "    </tr>\n",
       "  </tbody>\n",
       "</table>\n",
       "<p>13240 rows × 3 columns</p>\n",
       "</div>"
      ],
      "text/plain": [
       "                Tmax      RHav        Rs\n",
       "Date                                    \n",
       "2011-01-01  0.367468  0.471390  0.347008\n",
       "2011-01-01  0.356440  0.452151  0.342109\n",
       "2011-01-01  0.482080  0.591033  0.325386\n",
       "2011-01-01  0.451753  0.518979  0.372605\n",
       "2011-01-02  0.486412  0.609257  0.213662\n",
       "...              ...       ...       ...\n",
       "2020-12-30  0.444269  0.572204  0.320176\n",
       "2020-12-30  0.513194  0.555126  0.278113\n",
       "2020-12-31  0.543915  0.582222  0.251871\n",
       "2020-12-31  0.526979  0.647758  0.247289\n",
       "2020-12-31  0.595116  0.559628  0.406399\n",
       "\n",
       "[13240 rows x 3 columns]"
      ]
     },
     "execution_count": 27,
     "metadata": {},
     "output_type": "execute_result"
    }
   ],
   "source": [
    "predictors3=d1.drop(columns=['PM','Tdew','ws','Tmin','Tav'])\n",
    "predictors3"
   ]
  },
  {
   "cell_type": "code",
   "execution_count": 28,
   "id": "e1a3160f",
   "metadata": {},
   "outputs": [
    {
     "name": "stdout",
     "output_type": "stream",
     "text": [
      "(10605, 3)\n",
      "(10605,)\n",
      "(2635, 3)\n",
      "(2635,)\n"
     ]
    }
   ],
   "source": [
    "predictors3=np.array(predictors3)\n",
    "nobs = 2635\n",
    "train_features, test_features = predictors3[0:-nobs], predictors3[-nobs:]\n",
    "train_labels, test_labels = target[0:-nobs], target[-nobs:]\n",
    "# Check size\n",
    "print(train_features.shape)  \n",
    "print(train_labels.shape)  \n",
    "print(test_features.shape)  \n",
    "print(test_labels.shape) "
   ]
  },
  {
   "cell_type": "code",
   "execution_count": 29,
   "id": "22f14ce2",
   "metadata": {},
   "outputs": [
    {
     "name": "stderr",
     "output_type": "stream",
     "text": [
      "C:\\Users\\Pc\\anaconda3\\lib\\site-packages\\sklearn\\model_selection\\_search.py:306: UserWarning: The total space of parameters 8 is smaller than n_iter=10. Running 8 iterations. For exhaustive searches, use GridSearchCV.\n",
      "  warnings.warn(\n"
     ]
    },
    {
     "name": "stdout",
     "output_type": "stream",
     "text": [
      "Fitting 5 folds for each of 8 candidates, totalling 40 fits\n",
      "{'n_neighbors': 17}\n"
     ]
    }
   ],
   "source": [
    "param_grid = { 'n_neighbors' : [5,7,9,11,13,15,17,21] }\n",
    "grid_search = RandomizedSearchCV( KNeighborsRegressor(), param_grid, \n",
    "                 cv = 5, n_jobs = -1, verbose = 2, scoring=\"neg_mean_squared_error\")\n",
    "\n",
    "grid_search.fit(train_features, train_labels)\n",
    "print(grid_search.best_params_)"
   ]
  },
  {
   "cell_type": "code",
   "execution_count": 30,
   "id": "98001440",
   "metadata": {},
   "outputs": [
    {
     "name": "stdout",
     "output_type": "stream",
     "text": [
      "MAE=  0.020726963069513202\n",
      "MAPE=  0.05714491871244147\n",
      "MSE=  0.0007636275584977826\n",
      "R^2 train: 0.9775356407708748\n"
     ]
    },
    {
     "data": {
      "text/plain": [
       "['.KNN3.joblib']"
      ]
     },
     "execution_count": 30,
     "metadata": {},
     "output_type": "execute_result"
    }
   ],
   "source": [
    "best_pipe=grid_search.best_estimator_\n",
    "ypred1=best_pipe.predict(test_features)\n",
    "print(\"MAE= \", mean_absolute_error(test_labels, ypred1))\n",
    "print(\"MAPE= \",mean_absolute_percentage_error(test_labels, ypred1))\n",
    "print(\"MSE= \",mean_squared_error(test_labels, ypred1))\n",
    "print('R^2 train:', r2_score(test_labels, ypred1))\n",
    "joblib.dump(best_pipe, \".KNN3.joblib\")"
   ]
  },
  {
   "cell_type": "code",
   "execution_count": null,
   "id": "8feb4011",
   "metadata": {},
   "outputs": [],
   "source": [
    "#########################################################################################"
   ]
  },
  {
   "cell_type": "code",
   "execution_count": null,
   "id": "130ccad8",
   "metadata": {},
   "outputs": [],
   "source": [
    "######################model 4 Tmax,Tav,Rs #########################################"
   ]
  },
  {
   "cell_type": "code",
   "execution_count": 31,
   "id": "7db18f45",
   "metadata": {},
   "outputs": [
    {
     "data": {
      "text/html": [
       "<div>\n",
       "<style scoped>\n",
       "    .dataframe tbody tr th:only-of-type {\n",
       "        vertical-align: middle;\n",
       "    }\n",
       "\n",
       "    .dataframe tbody tr th {\n",
       "        vertical-align: top;\n",
       "    }\n",
       "\n",
       "    .dataframe thead th {\n",
       "        text-align: right;\n",
       "    }\n",
       "</style>\n",
       "<table border=\"1\" class=\"dataframe\">\n",
       "  <thead>\n",
       "    <tr style=\"text-align: right;\">\n",
       "      <th></th>\n",
       "      <th>Tmax</th>\n",
       "      <th>Tav</th>\n",
       "      <th>Rs</th>\n",
       "    </tr>\n",
       "    <tr>\n",
       "      <th>Date</th>\n",
       "      <th></th>\n",
       "      <th></th>\n",
       "      <th></th>\n",
       "    </tr>\n",
       "  </thead>\n",
       "  <tbody>\n",
       "    <tr>\n",
       "      <th>2011-01-01</th>\n",
       "      <td>0.367468</td>\n",
       "      <td>0.370632</td>\n",
       "      <td>0.347008</td>\n",
       "    </tr>\n",
       "    <tr>\n",
       "      <th>2011-01-01</th>\n",
       "      <td>0.356440</td>\n",
       "      <td>0.426771</td>\n",
       "      <td>0.342109</td>\n",
       "    </tr>\n",
       "    <tr>\n",
       "      <th>2011-01-01</th>\n",
       "      <td>0.482080</td>\n",
       "      <td>0.531602</td>\n",
       "      <td>0.325386</td>\n",
       "    </tr>\n",
       "    <tr>\n",
       "      <th>2011-01-01</th>\n",
       "      <td>0.451753</td>\n",
       "      <td>0.478518</td>\n",
       "      <td>0.372605</td>\n",
       "    </tr>\n",
       "    <tr>\n",
       "      <th>2011-01-02</th>\n",
       "      <td>0.486412</td>\n",
       "      <td>0.518045</td>\n",
       "      <td>0.213662</td>\n",
       "    </tr>\n",
       "    <tr>\n",
       "      <th>...</th>\n",
       "      <td>...</td>\n",
       "      <td>...</td>\n",
       "      <td>...</td>\n",
       "    </tr>\n",
       "    <tr>\n",
       "      <th>2020-12-30</th>\n",
       "      <td>0.444269</td>\n",
       "      <td>0.423907</td>\n",
       "      <td>0.320176</td>\n",
       "    </tr>\n",
       "    <tr>\n",
       "      <th>2020-12-30</th>\n",
       "      <td>0.513194</td>\n",
       "      <td>0.576475</td>\n",
       "      <td>0.278113</td>\n",
       "    </tr>\n",
       "    <tr>\n",
       "      <th>2020-12-31</th>\n",
       "      <td>0.543915</td>\n",
       "      <td>0.642352</td>\n",
       "      <td>0.251871</td>\n",
       "    </tr>\n",
       "    <tr>\n",
       "      <th>2020-12-31</th>\n",
       "      <td>0.526979</td>\n",
       "      <td>0.576093</td>\n",
       "      <td>0.247289</td>\n",
       "    </tr>\n",
       "    <tr>\n",
       "      <th>2020-12-31</th>\n",
       "      <td>0.595116</td>\n",
       "      <td>0.702310</td>\n",
       "      <td>0.406399</td>\n",
       "    </tr>\n",
       "  </tbody>\n",
       "</table>\n",
       "<p>13240 rows × 3 columns</p>\n",
       "</div>"
      ],
      "text/plain": [
       "                Tmax       Tav        Rs\n",
       "Date                                    \n",
       "2011-01-01  0.367468  0.370632  0.347008\n",
       "2011-01-01  0.356440  0.426771  0.342109\n",
       "2011-01-01  0.482080  0.531602  0.325386\n",
       "2011-01-01  0.451753  0.478518  0.372605\n",
       "2011-01-02  0.486412  0.518045  0.213662\n",
       "...              ...       ...       ...\n",
       "2020-12-30  0.444269  0.423907  0.320176\n",
       "2020-12-30  0.513194  0.576475  0.278113\n",
       "2020-12-31  0.543915  0.642352  0.251871\n",
       "2020-12-31  0.526979  0.576093  0.247289\n",
       "2020-12-31  0.595116  0.702310  0.406399\n",
       "\n",
       "[13240 rows x 3 columns]"
      ]
     },
     "execution_count": 31,
     "metadata": {},
     "output_type": "execute_result"
    }
   ],
   "source": [
    "predictors4=d1.drop(columns=['PM','Tdew','ws','Tmin','RHav'])\n",
    "predictors4"
   ]
  },
  {
   "cell_type": "code",
   "execution_count": 32,
   "id": "23b18974",
   "metadata": {},
   "outputs": [
    {
     "name": "stdout",
     "output_type": "stream",
     "text": [
      "(10605, 3)\n",
      "(10605,)\n",
      "(2635, 3)\n",
      "(2635,)\n"
     ]
    }
   ],
   "source": [
    "predictors4=np.array(predictors4)\n",
    "nobs = 2635\n",
    "train_features, test_features = predictors4[0:-nobs], predictors4[-nobs:]\n",
    "train_labels, test_labels = target[0:-nobs], target[-nobs:]\n",
    "# Check size\n",
    "print(train_features.shape)  \n",
    "print(train_labels.shape)  \n",
    "print(test_features.shape)  \n",
    "print(test_labels.shape) "
   ]
  },
  {
   "cell_type": "code",
   "execution_count": 33,
   "id": "5f2bc525",
   "metadata": {},
   "outputs": [
    {
     "name": "stderr",
     "output_type": "stream",
     "text": [
      "C:\\Users\\Pc\\anaconda3\\lib\\site-packages\\sklearn\\model_selection\\_search.py:306: UserWarning: The total space of parameters 8 is smaller than n_iter=10. Running 8 iterations. For exhaustive searches, use GridSearchCV.\n",
      "  warnings.warn(\n"
     ]
    },
    {
     "name": "stdout",
     "output_type": "stream",
     "text": [
      "Fitting 5 folds for each of 8 candidates, totalling 40 fits\n",
      "{'n_neighbors': 15}\n"
     ]
    }
   ],
   "source": [
    "param_grid = { 'n_neighbors' : [5,7,9,11,13,15,17,21] }\n",
    "grid_search = RandomizedSearchCV( KNeighborsRegressor(), param_grid, \n",
    "                 cv = 5, n_jobs = -1, verbose = 2, scoring=\"neg_mean_squared_error\")\n",
    "\n",
    "grid_search.fit(train_features, train_labels)\n",
    "print(grid_search.best_params_)"
   ]
  },
  {
   "cell_type": "code",
   "execution_count": 34,
   "id": "2986edae",
   "metadata": {},
   "outputs": [
    {
     "name": "stdout",
     "output_type": "stream",
     "text": [
      "MAE=  0.0205630557422207\n",
      "MAPE=  0.05821970463964372\n",
      "MSE=  0.0007235793687880375\n",
      "R^2 train: 0.9787137765127091\n"
     ]
    },
    {
     "data": {
      "text/plain": [
       "['.KNN4.joblib']"
      ]
     },
     "execution_count": 34,
     "metadata": {},
     "output_type": "execute_result"
    }
   ],
   "source": [
    "best_pipe=grid_search.best_estimator_\n",
    "ypred1=best_pipe.predict(test_features)\n",
    "print(\"MAE= \", mean_absolute_error(test_labels, ypred1))\n",
    "print(\"MAPE= \",mean_absolute_percentage_error(test_labels, ypred1))\n",
    "print(\"MSE= \",mean_squared_error(test_labels, ypred1))\n",
    "print('R^2 train:', r2_score(test_labels, ypred1))\n",
    "joblib.dump(best_pipe, \".KNN4.joblib\")"
   ]
  },
  {
   "cell_type": "code",
   "execution_count": null,
   "id": "0df8c3b2",
   "metadata": {},
   "outputs": [],
   "source": [
    "#####################################################################################"
   ]
  },
  {
   "cell_type": "code",
   "execution_count": null,
   "id": "64e43052",
   "metadata": {},
   "outputs": [],
   "source": [
    "############ model 5 Tmax, Rhav"
   ]
  },
  {
   "cell_type": "code",
   "execution_count": 36,
   "id": "d12f2bb0",
   "metadata": {},
   "outputs": [
    {
     "data": {
      "text/html": [
       "<div>\n",
       "<style scoped>\n",
       "    .dataframe tbody tr th:only-of-type {\n",
       "        vertical-align: middle;\n",
       "    }\n",
       "\n",
       "    .dataframe tbody tr th {\n",
       "        vertical-align: top;\n",
       "    }\n",
       "\n",
       "    .dataframe thead th {\n",
       "        text-align: right;\n",
       "    }\n",
       "</style>\n",
       "<table border=\"1\" class=\"dataframe\">\n",
       "  <thead>\n",
       "    <tr style=\"text-align: right;\">\n",
       "      <th></th>\n",
       "      <th>Tmax</th>\n",
       "      <th>RHav</th>\n",
       "    </tr>\n",
       "    <tr>\n",
       "      <th>Date</th>\n",
       "      <th></th>\n",
       "      <th></th>\n",
       "    </tr>\n",
       "  </thead>\n",
       "  <tbody>\n",
       "    <tr>\n",
       "      <th>2011-01-01</th>\n",
       "      <td>0.367468</td>\n",
       "      <td>0.471390</td>\n",
       "    </tr>\n",
       "    <tr>\n",
       "      <th>2011-01-01</th>\n",
       "      <td>0.356440</td>\n",
       "      <td>0.452151</td>\n",
       "    </tr>\n",
       "    <tr>\n",
       "      <th>2011-01-01</th>\n",
       "      <td>0.482080</td>\n",
       "      <td>0.591033</td>\n",
       "    </tr>\n",
       "    <tr>\n",
       "      <th>2011-01-01</th>\n",
       "      <td>0.451753</td>\n",
       "      <td>0.518979</td>\n",
       "    </tr>\n",
       "    <tr>\n",
       "      <th>2011-01-02</th>\n",
       "      <td>0.486412</td>\n",
       "      <td>0.609257</td>\n",
       "    </tr>\n",
       "    <tr>\n",
       "      <th>...</th>\n",
       "      <td>...</td>\n",
       "      <td>...</td>\n",
       "    </tr>\n",
       "    <tr>\n",
       "      <th>2020-12-30</th>\n",
       "      <td>0.444269</td>\n",
       "      <td>0.572204</td>\n",
       "    </tr>\n",
       "    <tr>\n",
       "      <th>2020-12-30</th>\n",
       "      <td>0.513194</td>\n",
       "      <td>0.555126</td>\n",
       "    </tr>\n",
       "    <tr>\n",
       "      <th>2020-12-31</th>\n",
       "      <td>0.543915</td>\n",
       "      <td>0.582222</td>\n",
       "    </tr>\n",
       "    <tr>\n",
       "      <th>2020-12-31</th>\n",
       "      <td>0.526979</td>\n",
       "      <td>0.647758</td>\n",
       "    </tr>\n",
       "    <tr>\n",
       "      <th>2020-12-31</th>\n",
       "      <td>0.595116</td>\n",
       "      <td>0.559628</td>\n",
       "    </tr>\n",
       "  </tbody>\n",
       "</table>\n",
       "<p>13240 rows × 2 columns</p>\n",
       "</div>"
      ],
      "text/plain": [
       "                Tmax      RHav\n",
       "Date                          \n",
       "2011-01-01  0.367468  0.471390\n",
       "2011-01-01  0.356440  0.452151\n",
       "2011-01-01  0.482080  0.591033\n",
       "2011-01-01  0.451753  0.518979\n",
       "2011-01-02  0.486412  0.609257\n",
       "...              ...       ...\n",
       "2020-12-30  0.444269  0.572204\n",
       "2020-12-30  0.513194  0.555126\n",
       "2020-12-31  0.543915  0.582222\n",
       "2020-12-31  0.526979  0.647758\n",
       "2020-12-31  0.595116  0.559628\n",
       "\n",
       "[13240 rows x 2 columns]"
      ]
     },
     "execution_count": 36,
     "metadata": {},
     "output_type": "execute_result"
    }
   ],
   "source": [
    "predictors5=d1.drop(columns=['PM','Tdew','ws','Tmin','Rs','Tav'])\n",
    "predictors5"
   ]
  },
  {
   "cell_type": "code",
   "execution_count": 37,
   "id": "b61e4586",
   "metadata": {},
   "outputs": [
    {
     "name": "stdout",
     "output_type": "stream",
     "text": [
      "(10605, 2)\n",
      "(10605,)\n",
      "(2635, 2)\n",
      "(2635,)\n"
     ]
    }
   ],
   "source": [
    "predictors5=np.array(predictors5)\n",
    "nobs = 2635\n",
    "train_features, test_features = predictors5[0:-nobs], predictors5[-nobs:]\n",
    "train_labels, test_labels = target[0:-nobs], target[-nobs:]\n",
    "# Check size\n",
    "print(train_features.shape)  \n",
    "print(train_labels.shape)  \n",
    "print(test_features.shape)  \n",
    "print(test_labels.shape) "
   ]
  },
  {
   "cell_type": "code",
   "execution_count": 43,
   "id": "a2485285",
   "metadata": {},
   "outputs": [
    {
     "name": "stdout",
     "output_type": "stream",
     "text": [
      "Fitting 5 folds for each of 10 candidates, totalling 50 fits\n",
      "{'n_neighbors': 43}\n"
     ]
    }
   ],
   "source": [
    "param_grid = { 'n_neighbors' : [5,7,9,11,13,15,17,21,23,25,27,29,31,33,35,37,39,41,43,45,47] }\n",
    "grid_search = RandomizedSearchCV( KNeighborsRegressor(), param_grid, \n",
    "                 cv = 5, n_jobs = -1, verbose = 2, scoring=\"neg_mean_squared_error\")\n",
    "\n",
    "grid_search.fit(train_features, train_labels)\n",
    "print(grid_search.best_params_)"
   ]
  },
  {
   "cell_type": "code",
   "execution_count": 44,
   "id": "34d92af4",
   "metadata": {},
   "outputs": [
    {
     "name": "stdout",
     "output_type": "stream",
     "text": [
      "MAE=  0.07399106597063243\n",
      "MAPE=  0.20666880790107633\n",
      "MSE=  0.009388949684901777\n",
      "R^2 train: 0.7237963243223786\n"
     ]
    },
    {
     "data": {
      "text/plain": [
       "['.KNN5.joblib']"
      ]
     },
     "execution_count": 44,
     "metadata": {},
     "output_type": "execute_result"
    }
   ],
   "source": [
    "best_pipe=grid_search.best_estimator_\n",
    "ypred1=best_pipe.predict(test_features)\n",
    "print(\"MAE= \", mean_absolute_error(test_labels, ypred1))\n",
    "print(\"MAPE= \",mean_absolute_percentage_error(test_labels, ypred1))\n",
    "print(\"MSE= \",mean_squared_error(test_labels, ypred1))\n",
    "print('R^2 train:', r2_score(test_labels, ypred1))\n",
    "joblib.dump(best_pipe, \".KNN5.joblib\")"
   ]
  },
  {
   "cell_type": "code",
   "execution_count": null,
   "id": "14026186",
   "metadata": {},
   "outputs": [],
   "source": [
    "######################################################################################"
   ]
  },
  {
   "cell_type": "code",
   "execution_count": null,
   "id": "91c7862e",
   "metadata": {},
   "outputs": [],
   "source": [
    "############ model 6 Tmax, Tav ###################"
   ]
  },
  {
   "cell_type": "code",
   "execution_count": 45,
   "id": "397d3add",
   "metadata": {},
   "outputs": [
    {
     "data": {
      "text/html": [
       "<div>\n",
       "<style scoped>\n",
       "    .dataframe tbody tr th:only-of-type {\n",
       "        vertical-align: middle;\n",
       "    }\n",
       "\n",
       "    .dataframe tbody tr th {\n",
       "        vertical-align: top;\n",
       "    }\n",
       "\n",
       "    .dataframe thead th {\n",
       "        text-align: right;\n",
       "    }\n",
       "</style>\n",
       "<table border=\"1\" class=\"dataframe\">\n",
       "  <thead>\n",
       "    <tr style=\"text-align: right;\">\n",
       "      <th></th>\n",
       "      <th>Tmax</th>\n",
       "      <th>Tav</th>\n",
       "    </tr>\n",
       "    <tr>\n",
       "      <th>Date</th>\n",
       "      <th></th>\n",
       "      <th></th>\n",
       "    </tr>\n",
       "  </thead>\n",
       "  <tbody>\n",
       "    <tr>\n",
       "      <th>2011-01-01</th>\n",
       "      <td>0.367468</td>\n",
       "      <td>0.370632</td>\n",
       "    </tr>\n",
       "    <tr>\n",
       "      <th>2011-01-01</th>\n",
       "      <td>0.356440</td>\n",
       "      <td>0.426771</td>\n",
       "    </tr>\n",
       "    <tr>\n",
       "      <th>2011-01-01</th>\n",
       "      <td>0.482080</td>\n",
       "      <td>0.531602</td>\n",
       "    </tr>\n",
       "    <tr>\n",
       "      <th>2011-01-01</th>\n",
       "      <td>0.451753</td>\n",
       "      <td>0.478518</td>\n",
       "    </tr>\n",
       "    <tr>\n",
       "      <th>2011-01-02</th>\n",
       "      <td>0.486412</td>\n",
       "      <td>0.518045</td>\n",
       "    </tr>\n",
       "    <tr>\n",
       "      <th>...</th>\n",
       "      <td>...</td>\n",
       "      <td>...</td>\n",
       "    </tr>\n",
       "    <tr>\n",
       "      <th>2020-12-30</th>\n",
       "      <td>0.444269</td>\n",
       "      <td>0.423907</td>\n",
       "    </tr>\n",
       "    <tr>\n",
       "      <th>2020-12-30</th>\n",
       "      <td>0.513194</td>\n",
       "      <td>0.576475</td>\n",
       "    </tr>\n",
       "    <tr>\n",
       "      <th>2020-12-31</th>\n",
       "      <td>0.543915</td>\n",
       "      <td>0.642352</td>\n",
       "    </tr>\n",
       "    <tr>\n",
       "      <th>2020-12-31</th>\n",
       "      <td>0.526979</td>\n",
       "      <td>0.576093</td>\n",
       "    </tr>\n",
       "    <tr>\n",
       "      <th>2020-12-31</th>\n",
       "      <td>0.595116</td>\n",
       "      <td>0.702310</td>\n",
       "    </tr>\n",
       "  </tbody>\n",
       "</table>\n",
       "<p>13240 rows × 2 columns</p>\n",
       "</div>"
      ],
      "text/plain": [
       "                Tmax       Tav\n",
       "Date                          \n",
       "2011-01-01  0.367468  0.370632\n",
       "2011-01-01  0.356440  0.426771\n",
       "2011-01-01  0.482080  0.531602\n",
       "2011-01-01  0.451753  0.478518\n",
       "2011-01-02  0.486412  0.518045\n",
       "...              ...       ...\n",
       "2020-12-30  0.444269  0.423907\n",
       "2020-12-30  0.513194  0.576475\n",
       "2020-12-31  0.543915  0.642352\n",
       "2020-12-31  0.526979  0.576093\n",
       "2020-12-31  0.595116  0.702310\n",
       "\n",
       "[13240 rows x 2 columns]"
      ]
     },
     "execution_count": 45,
     "metadata": {},
     "output_type": "execute_result"
    }
   ],
   "source": [
    "predictors6=d1.drop(columns=['PM','Tdew','ws','Tmin','RHav','Rs'])\n",
    "predictors6"
   ]
  },
  {
   "cell_type": "code",
   "execution_count": 46,
   "id": "9e40b99e",
   "metadata": {},
   "outputs": [
    {
     "name": "stdout",
     "output_type": "stream",
     "text": [
      "(10605, 2)\n",
      "(10605,)\n",
      "(2635, 2)\n",
      "(2635,)\n"
     ]
    }
   ],
   "source": [
    "predictors6=np.array(predictors6)\n",
    "nobs = 2635\n",
    "train_features, test_features = predictors6[0:-nobs], predictors6[-nobs:]\n",
    "train_labels, test_labels = target[0:-nobs], target[-nobs:]\n",
    "# Check size\n",
    "print(train_features.shape)  \n",
    "print(train_labels.shape)  \n",
    "print(test_features.shape)  \n",
    "print(test_labels.shape) "
   ]
  },
  {
   "cell_type": "code",
   "execution_count": 50,
   "id": "56d4f86d",
   "metadata": {},
   "outputs": [
    {
     "name": "stdout",
     "output_type": "stream",
     "text": [
      "Fitting 5 folds for each of 10 candidates, totalling 50 fits\n",
      "{'n_neighbors': 41}\n"
     ]
    }
   ],
   "source": [
    "param_grid = { 'n_neighbors' : [5,7,9,11,13,15,17,21,23,25,27,29,31,33,35,37,39,41,43,45,47] }\n",
    "grid_search = RandomizedSearchCV( KNeighborsRegressor(), param_grid, \n",
    "                 cv = 5, n_jobs = -1, verbose = 2, scoring=\"neg_mean_squared_error\")\n",
    "\n",
    "grid_search.fit(train_features, train_labels)\n",
    "print(grid_search.best_params_)"
   ]
  },
  {
   "cell_type": "code",
   "execution_count": 51,
   "id": "ab1876bc",
   "metadata": {},
   "outputs": [
    {
     "name": "stdout",
     "output_type": "stream",
     "text": [
      "MAE=  0.13042180016168747\n",
      "MAPE=  0.44864718760123534\n",
      "MSE=  0.027080059262597937\n",
      "R^2 train: 0.2033601034282656\n"
     ]
    },
    {
     "data": {
      "text/plain": [
       "['.KNN6.joblib']"
      ]
     },
     "execution_count": 51,
     "metadata": {},
     "output_type": "execute_result"
    }
   ],
   "source": [
    "best_pipe=grid_search.best_estimator_\n",
    "ypred1=best_pipe.predict(test_features)\n",
    "print(\"MAE= \", mean_absolute_error(test_labels, ypred1))\n",
    "print(\"MAPE= \",mean_absolute_percentage_error(test_labels, ypred1))\n",
    "print(\"MSE= \",mean_squared_error(test_labels, ypred1))\n",
    "print('R^2 train:', r2_score(test_labels, ypred1))\n",
    "joblib.dump(best_pipe, \".KNN6.joblib\")"
   ]
  },
  {
   "cell_type": "code",
   "execution_count": null,
   "id": "58fe5e44",
   "metadata": {},
   "outputs": [],
   "source": [
    "################################################################################"
   ]
  },
  {
   "cell_type": "code",
   "execution_count": null,
   "id": "92ac9447",
   "metadata": {},
   "outputs": [],
   "source": [
    "################ model7 Tmax,Rs #################################"
   ]
  },
  {
   "cell_type": "code",
   "execution_count": 52,
   "id": "838ff91b",
   "metadata": {},
   "outputs": [
    {
     "data": {
      "text/html": [
       "<div>\n",
       "<style scoped>\n",
       "    .dataframe tbody tr th:only-of-type {\n",
       "        vertical-align: middle;\n",
       "    }\n",
       "\n",
       "    .dataframe tbody tr th {\n",
       "        vertical-align: top;\n",
       "    }\n",
       "\n",
       "    .dataframe thead th {\n",
       "        text-align: right;\n",
       "    }\n",
       "</style>\n",
       "<table border=\"1\" class=\"dataframe\">\n",
       "  <thead>\n",
       "    <tr style=\"text-align: right;\">\n",
       "      <th></th>\n",
       "      <th>Tmax</th>\n",
       "      <th>Rs</th>\n",
       "    </tr>\n",
       "    <tr>\n",
       "      <th>Date</th>\n",
       "      <th></th>\n",
       "      <th></th>\n",
       "    </tr>\n",
       "  </thead>\n",
       "  <tbody>\n",
       "    <tr>\n",
       "      <th>2011-01-01</th>\n",
       "      <td>0.367468</td>\n",
       "      <td>0.347008</td>\n",
       "    </tr>\n",
       "    <tr>\n",
       "      <th>2011-01-01</th>\n",
       "      <td>0.356440</td>\n",
       "      <td>0.342109</td>\n",
       "    </tr>\n",
       "    <tr>\n",
       "      <th>2011-01-01</th>\n",
       "      <td>0.482080</td>\n",
       "      <td>0.325386</td>\n",
       "    </tr>\n",
       "    <tr>\n",
       "      <th>2011-01-01</th>\n",
       "      <td>0.451753</td>\n",
       "      <td>0.372605</td>\n",
       "    </tr>\n",
       "    <tr>\n",
       "      <th>2011-01-02</th>\n",
       "      <td>0.486412</td>\n",
       "      <td>0.213662</td>\n",
       "    </tr>\n",
       "    <tr>\n",
       "      <th>...</th>\n",
       "      <td>...</td>\n",
       "      <td>...</td>\n",
       "    </tr>\n",
       "    <tr>\n",
       "      <th>2020-12-30</th>\n",
       "      <td>0.444269</td>\n",
       "      <td>0.320176</td>\n",
       "    </tr>\n",
       "    <tr>\n",
       "      <th>2020-12-30</th>\n",
       "      <td>0.513194</td>\n",
       "      <td>0.278113</td>\n",
       "    </tr>\n",
       "    <tr>\n",
       "      <th>2020-12-31</th>\n",
       "      <td>0.543915</td>\n",
       "      <td>0.251871</td>\n",
       "    </tr>\n",
       "    <tr>\n",
       "      <th>2020-12-31</th>\n",
       "      <td>0.526979</td>\n",
       "      <td>0.247289</td>\n",
       "    </tr>\n",
       "    <tr>\n",
       "      <th>2020-12-31</th>\n",
       "      <td>0.595116</td>\n",
       "      <td>0.406399</td>\n",
       "    </tr>\n",
       "  </tbody>\n",
       "</table>\n",
       "<p>13240 rows × 2 columns</p>\n",
       "</div>"
      ],
      "text/plain": [
       "                Tmax        Rs\n",
       "Date                          \n",
       "2011-01-01  0.367468  0.347008\n",
       "2011-01-01  0.356440  0.342109\n",
       "2011-01-01  0.482080  0.325386\n",
       "2011-01-01  0.451753  0.372605\n",
       "2011-01-02  0.486412  0.213662\n",
       "...              ...       ...\n",
       "2020-12-30  0.444269  0.320176\n",
       "2020-12-30  0.513194  0.278113\n",
       "2020-12-31  0.543915  0.251871\n",
       "2020-12-31  0.526979  0.247289\n",
       "2020-12-31  0.595116  0.406399\n",
       "\n",
       "[13240 rows x 2 columns]"
      ]
     },
     "execution_count": 52,
     "metadata": {},
     "output_type": "execute_result"
    }
   ],
   "source": [
    "predictors7=d1.drop(columns=['PM','Tdew','ws','Tmin','RHav','Tav'])\n",
    "predictors7"
   ]
  },
  {
   "cell_type": "code",
   "execution_count": 53,
   "id": "47e60636",
   "metadata": {},
   "outputs": [
    {
     "name": "stdout",
     "output_type": "stream",
     "text": [
      "(10605, 2)\n",
      "(10605,)\n",
      "(2635, 2)\n",
      "(2635,)\n"
     ]
    }
   ],
   "source": [
    "predictors7=np.array(predictors7)\n",
    "nobs = 2635\n",
    "train_features, test_features = predictors7[0:-nobs], predictors7[-nobs:]\n",
    "train_labels, test_labels = target[0:-nobs], target[-nobs:]\n",
    "# Check size\n",
    "print(train_features.shape)  \n",
    "print(train_labels.shape)  \n",
    "print(test_features.shape)  \n",
    "print(test_labels.shape)"
   ]
  },
  {
   "cell_type": "code",
   "execution_count": 55,
   "id": "2dbb1f9c",
   "metadata": {},
   "outputs": [
    {
     "name": "stdout",
     "output_type": "stream",
     "text": [
      "Fitting 5 folds for each of 10 candidates, totalling 50 fits\n",
      "{'n_neighbors': 27}\n"
     ]
    }
   ],
   "source": [
    "param_grid = { 'n_neighbors' : [5,7,9,11,13,15,17,21,23,25,27,29,31,33,35,37] }\n",
    "grid_search = RandomizedSearchCV( KNeighborsRegressor(), param_grid, \n",
    "                 cv = 5, n_jobs = -1, verbose = 2, scoring=\"neg_mean_squared_error\")\n",
    "\n",
    "grid_search.fit(train_features, train_labels)\n",
    "print(grid_search.best_params_)"
   ]
  },
  {
   "cell_type": "code",
   "execution_count": 56,
   "id": "eb709d6b",
   "metadata": {},
   "outputs": [
    {
     "name": "stdout",
     "output_type": "stream",
     "text": [
      "MAE=  0.021783558448101866\n",
      "MAPE=  0.06052088680828066\n",
      "MSE=  0.0007914001375147823\n",
      "R^2 train: 0.9767186283610758\n"
     ]
    },
    {
     "data": {
      "text/plain": [
       "['.KNN7.joblib']"
      ]
     },
     "execution_count": 56,
     "metadata": {},
     "output_type": "execute_result"
    }
   ],
   "source": [
    "best_pipe=grid_search.best_estimator_\n",
    "ypred1=best_pipe.predict(test_features)\n",
    "print(\"MAE= \", mean_absolute_error(test_labels, ypred1))\n",
    "print(\"MAPE= \",mean_absolute_percentage_error(test_labels, ypred1))\n",
    "print(\"MSE= \",mean_squared_error(test_labels, ypred1))\n",
    "print('R^2 train:', r2_score(test_labels, ypred1))\n",
    "joblib.dump(best_pipe, \".KNN7.joblib\")"
   ]
  },
  {
   "cell_type": "code",
   "execution_count": null,
   "id": "a9708371",
   "metadata": {},
   "outputs": [],
   "source": [
    "#########################################################################################################################"
   ]
  },
  {
   "cell_type": "code",
   "execution_count": null,
   "id": "065d38d3",
   "metadata": {},
   "outputs": [],
   "source": [
    "########################  Addition of ws on Tmax, RHav, Rs ############################################################"
   ]
  },
  {
   "cell_type": "code",
   "execution_count": 8,
   "id": "51ebec69",
   "metadata": {},
   "outputs": [
    {
     "data": {
      "text/html": [
       "<div>\n",
       "<style scoped>\n",
       "    .dataframe tbody tr th:only-of-type {\n",
       "        vertical-align: middle;\n",
       "    }\n",
       "\n",
       "    .dataframe tbody tr th {\n",
       "        vertical-align: top;\n",
       "    }\n",
       "\n",
       "    .dataframe thead th {\n",
       "        text-align: right;\n",
       "    }\n",
       "</style>\n",
       "<table border=\"1\" class=\"dataframe\">\n",
       "  <thead>\n",
       "    <tr style=\"text-align: right;\">\n",
       "      <th></th>\n",
       "      <th>Tmax</th>\n",
       "      <th>RHav</th>\n",
       "      <th>Rs</th>\n",
       "      <th>ws</th>\n",
       "    </tr>\n",
       "    <tr>\n",
       "      <th>Date</th>\n",
       "      <th></th>\n",
       "      <th></th>\n",
       "      <th></th>\n",
       "      <th></th>\n",
       "    </tr>\n",
       "  </thead>\n",
       "  <tbody>\n",
       "    <tr>\n",
       "      <th>2011-01-01</th>\n",
       "      <td>0.367468</td>\n",
       "      <td>0.471390</td>\n",
       "      <td>0.347008</td>\n",
       "      <td>0.236408</td>\n",
       "    </tr>\n",
       "    <tr>\n",
       "      <th>2011-01-01</th>\n",
       "      <td>0.356440</td>\n",
       "      <td>0.452151</td>\n",
       "      <td>0.342109</td>\n",
       "      <td>0.555517</td>\n",
       "    </tr>\n",
       "    <tr>\n",
       "      <th>2011-01-01</th>\n",
       "      <td>0.482080</td>\n",
       "      <td>0.591033</td>\n",
       "      <td>0.325386</td>\n",
       "      <td>0.811410</td>\n",
       "    </tr>\n",
       "    <tr>\n",
       "      <th>2011-01-01</th>\n",
       "      <td>0.451753</td>\n",
       "      <td>0.518979</td>\n",
       "      <td>0.372605</td>\n",
       "      <td>0.631436</td>\n",
       "    </tr>\n",
       "    <tr>\n",
       "      <th>2011-01-02</th>\n",
       "      <td>0.486412</td>\n",
       "      <td>0.609257</td>\n",
       "      <td>0.213662</td>\n",
       "      <td>0.553780</td>\n",
       "    </tr>\n",
       "    <tr>\n",
       "      <th>...</th>\n",
       "      <td>...</td>\n",
       "      <td>...</td>\n",
       "      <td>...</td>\n",
       "      <td>...</td>\n",
       "    </tr>\n",
       "    <tr>\n",
       "      <th>2020-12-30</th>\n",
       "      <td>0.444269</td>\n",
       "      <td>0.572204</td>\n",
       "      <td>0.320176</td>\n",
       "      <td>0.457410</td>\n",
       "    </tr>\n",
       "    <tr>\n",
       "      <th>2020-12-30</th>\n",
       "      <td>0.513194</td>\n",
       "      <td>0.555126</td>\n",
       "      <td>0.278113</td>\n",
       "      <td>0.803974</td>\n",
       "    </tr>\n",
       "    <tr>\n",
       "      <th>2020-12-31</th>\n",
       "      <td>0.543915</td>\n",
       "      <td>0.582222</td>\n",
       "      <td>0.251871</td>\n",
       "      <td>0.672128</td>\n",
       "    </tr>\n",
       "    <tr>\n",
       "      <th>2020-12-31</th>\n",
       "      <td>0.526979</td>\n",
       "      <td>0.647758</td>\n",
       "      <td>0.247289</td>\n",
       "      <td>0.665712</td>\n",
       "    </tr>\n",
       "    <tr>\n",
       "      <th>2020-12-31</th>\n",
       "      <td>0.595116</td>\n",
       "      <td>0.559628</td>\n",
       "      <td>0.406399</td>\n",
       "      <td>0.836452</td>\n",
       "    </tr>\n",
       "  </tbody>\n",
       "</table>\n",
       "<p>13240 rows × 4 columns</p>\n",
       "</div>"
      ],
      "text/plain": [
       "                Tmax      RHav        Rs        ws\n",
       "Date                                              \n",
       "2011-01-01  0.367468  0.471390  0.347008  0.236408\n",
       "2011-01-01  0.356440  0.452151  0.342109  0.555517\n",
       "2011-01-01  0.482080  0.591033  0.325386  0.811410\n",
       "2011-01-01  0.451753  0.518979  0.372605  0.631436\n",
       "2011-01-02  0.486412  0.609257  0.213662  0.553780\n",
       "...              ...       ...       ...       ...\n",
       "2020-12-30  0.444269  0.572204  0.320176  0.457410\n",
       "2020-12-30  0.513194  0.555126  0.278113  0.803974\n",
       "2020-12-31  0.543915  0.582222  0.251871  0.672128\n",
       "2020-12-31  0.526979  0.647758  0.247289  0.665712\n",
       "2020-12-31  0.595116  0.559628  0.406399  0.836452\n",
       "\n",
       "[13240 rows x 4 columns]"
      ]
     },
     "execution_count": 8,
     "metadata": {},
     "output_type": "execute_result"
    }
   ],
   "source": [
    "predictorsf=d1.drop(columns=['PM','Tdew','Tav','Tmin'])\n",
    "predictorsf"
   ]
  },
  {
   "cell_type": "code",
   "execution_count": 9,
   "id": "7320d741",
   "metadata": {},
   "outputs": [
    {
     "name": "stdout",
     "output_type": "stream",
     "text": [
      "(10605, 4)\n",
      "(10605,)\n",
      "(2635, 4)\n",
      "(2635,)\n"
     ]
    }
   ],
   "source": [
    "predictorsf=np.array(predictorsf)\n",
    "nobs = 2635\n",
    "train_features, test_features = predictorsf[0:-nobs], predictorsf[-nobs:]\n",
    "train_labels, test_labels = target[0:-nobs], target[-nobs:]\n",
    "# Check size\n",
    "print(train_features.shape)  \n",
    "print(train_labels.shape)  \n",
    "print(test_features.shape)  \n",
    "print(test_labels.shape) "
   ]
  },
  {
   "cell_type": "code",
   "execution_count": 10,
   "id": "be04ee54",
   "metadata": {},
   "outputs": [
    {
     "name": "stdout",
     "output_type": "stream",
     "text": [
      "Fitting 5 folds for each of 10 candidates, totalling 50 fits\n",
      "{'n_neighbors': 7}\n"
     ]
    }
   ],
   "source": [
    "param_grid = { 'n_neighbors' : [5,7,9,11,13,15,17,21,23,25,27,29,31,33,35,37] }\n",
    "grid_search = RandomizedSearchCV( KNeighborsRegressor(), param_grid, \n",
    "                 cv = 5, n_jobs = -1, verbose = 2, scoring=\"neg_mean_squared_error\")\n",
    "\n",
    "grid_search.fit(train_features, train_labels)\n",
    "print(grid_search.best_params_)"
   ]
  },
  {
   "cell_type": "code",
   "execution_count": 12,
   "id": "9e29a658",
   "metadata": {},
   "outputs": [
    {
     "name": "stdout",
     "output_type": "stream",
     "text": [
      "MAE=  0.013016269766676324\n",
      "MAPE=  0.0426282592132563\n",
      "MSE=  0.00032545937070743594\n",
      "R^2 train: 0.9904256516980089\n"
     ]
    },
    {
     "data": {
      "text/plain": [
       "['.KNNf.joblib']"
      ]
     },
     "execution_count": 12,
     "metadata": {},
     "output_type": "execute_result"
    }
   ],
   "source": [
    "best_pipe=grid_search.best_estimator_\n",
    "ypred1=best_pipe.predict(test_features)\n",
    "print(\"MAE= \", mean_absolute_error(test_labels, ypred1))\n",
    "print(\"MAPE= \",mean_absolute_percentage_error(test_labels, ypred1))\n",
    "print(\"MSE= \",mean_squared_error(test_labels, ypred1))\n",
    "print('R^2 train:', r2_score(test_labels, ypred1))\n",
    "import joblib\n",
    "joblib.dump(best_pipe, \".KNNf.joblib\")"
   ]
  },
  {
   "cell_type": "code",
   "execution_count": null,
   "id": "7bc34637",
   "metadata": {},
   "outputs": [],
   "source": []
  }
 ],
 "metadata": {
  "kernelspec": {
   "display_name": "Python 3 (ipykernel)",
   "language": "python",
   "name": "python3"
  },
  "language_info": {
   "codemirror_mode": {
    "name": "ipython",
    "version": 3
   },
   "file_extension": ".py",
   "mimetype": "text/x-python",
   "name": "python",
   "nbconvert_exporter": "python",
   "pygments_lexer": "ipython3",
   "version": "3.9.7"
  }
 },
 "nbformat": 4,
 "nbformat_minor": 5
}
